{
 "cells": [
  {
   "cell_type": "markdown",
   "metadata": {},
   "source": [
    "# **Deep Q-Network Route Finder**\n",
    "\n",
    "Here in this jupyter notebook, we will have some fun with using reinforcement learning to find safe routes across the ice.\n",
    "This notebook draws a lot of inspiration from Open AI's [FrozenLake](https://gym.openai.com/envs/FrozenLake8x8-v0/) gym environment.\n",
    "Really, how nice of them to have a well crafted toy problem already thought out for us!\n",
    "\n",
    "Specifically and technically, we will train a Deep Q-Network in Keras/Tensorflow to help us decide safe routes across slippery ice!\n",
    "Later, we will move on to applying this safe navigation tool to our crevasse avoidance problem.\n",
    "\n",
    "References:\n",
    "- Open AI [gym](https://github.com/openai/gym) \n",
    "- [Simple Reinforcement Learning with Tensorflow Part 0: Q-Learning with Tables and Neural Networks](https://medium.com/emergent-future/simple-reinforcement-learning-with-tensorflow-part-0-q-learning-with-tables-and-neural-networks-d195264329d0)\n",
    "- [Simple Reinforcement Learning with Tensorflow Part 4: Deep Q-Networks and Beyond](https://medium.com/@awjuliani/simple-reinforcement-learning-with-tensorflow-part-4-deep-q-networks-and-beyond-8438a3e2b8df)\n",
    "- [Frozen Lake github gist using Keras](https://gist.github.com/ceshine/eeb97564c21a77b8c315179f82b3fc08)\n",
    "- [Reinforcement Learning w/ Keras + OpenAI: DQNs](https://towardsdatascience.com/reinforcement-learning-w-keras-openai-dqns-1eed3a5338c)\n",
    "- [Introduction to Various Reinforcement Learning Algorithms. Part I (Q-Learning, SARSA, DQN, DDPG)](https://towardsdatascience.com/introduction-to-various-reinforcement-learning-algorithms-i-q-learning-sarsa-dqn-ddpg-72a5e0cb6287)"
   ]
  },
  {
   "cell_type": "code",
   "execution_count": 1,
   "metadata": {},
   "outputs": [
    {
     "name": "stderr",
     "output_type": "stream",
     "text": [
      "Using TensorFlow backend.\n"
     ]
    },
    {
     "name": "stdout",
     "output_type": "stream",
     "text": [
      "Python       : 3.6.5 | packaged by conda-forge | (default, Apr  6 2018, 13:39:56) \n",
      "Numpy        : 1.14.2\n",
      "Keras        : 2.1.5\n",
      "Tensorflow   : 1.4.1\n"
     ]
    },
    {
     "data": {
      "text/plain": [
       "'/device:GPU:0'"
      ]
     },
     "execution_count": 1,
     "metadata": {},
     "output_type": "execute_result"
    }
   ],
   "source": [
    "# Import all the necessary libraries\n",
    "import os\n",
    "import sys\n",
    "import warnings\n",
    "os.environ[\"CUDA_DEVICE_ORDER\"] = \"PCI_BUS_ID\"   # see issue #152\n",
    "os.environ[\"CUDA_VISIBLE_DEVICES\"] = \"0\"  #set to see only the first gpu\n",
    "os.environ['KERAS_BACKEND'] = 'tensorflow'\n",
    "warnings.simplefilter(action = \"ignore\", category = FutureWarning)\n",
    "\n",
    "import gym\n",
    "import matplotlib.pyplot as plt\n",
    "import numpy as np\n",
    "import random\n",
    "%matplotlib inline\n",
    "\n",
    "import keras\n",
    "import tensorflow as tf\n",
    "import rl\n",
    "\n",
    "from keras import backend as K\n",
    "from keras.models import Sequential, Model\n",
    "from keras.layers import Conv2D, Flatten, Dense, Input, SeparableConv2D\n",
    "from keras.layers.core import Activation, Flatten, Dropout, Reshape\n",
    "from rl.agents.dqn import DQNAgent\n",
    "from rl.policy import EpsGreedyQPolicy, LinearAnnealedPolicy\n",
    "from rl.memory import SequentialMemory\n",
    "\n",
    "print('Python       :', sys.version.split('\\n')[0])\n",
    "print('Numpy        :', np.__version__)\n",
    "print('Keras        :', keras.__version__)\n",
    "print('Tensorflow   :', tf.__version__)\n",
    "tf.test.gpu_device_name()"
   ]
  },
  {
   "cell_type": "code",
   "execution_count": 2,
   "metadata": {},
   "outputs": [],
   "source": [
    "# Set seed values\n",
    "seed = 42\n",
    "random.seed = seed\n",
    "np.random.seed(seed=seed)\n",
    "tf.set_random_seed(seed=seed)"
   ]
  },
  {
   "cell_type": "markdown",
   "metadata": {},
   "source": [
    "## Design Keras Model to fit into Q-Network"
   ]
  },
  {
   "cell_type": "code",
   "execution_count": 3,
   "metadata": {},
   "outputs": [],
   "source": [
    "def keras_convnet(input_shape=(8,8,2)):\n",
    "    \"\"\"\n",
    "    The Keras Convolutional Network that parses the incoming pixel data.\n",
    "    Based on Mnih et al. 2015's \"Playing Atari with Deep Reinforcement Learning\" paper\n",
    "    Consists of 2 Convolutional Layers, and 1 Dense Layer, plus 1 Linear output Layer\n",
    "    \n",
    "    Inputs:\n",
    "    input_shape -- shape of the input tensor, (height, width, channels)\n",
    "    \n",
    "    Outputs:\n",
    "    model -- keras.models.Model instance\n",
    "    \n",
    "    \"\"\"\n",
    "    inp = Input(shape=input_shape)\n",
    "    assert(inp.shape.ndims == 4)  #needs to be shape like (?,4,4,2) for 4x4 grid, (?,8,8,2) for 8x8 grid\n",
    "        \n",
    "    X = Conv2D(filters=16, kernel_size=(8,8), strides=(4,4), padding='same', activation='relu')(inp)\n",
    "    X = Conv2D(filters=32, kernel_size=(4,4), strides=(2,2), padding='same', activation='relu')(X)\n",
    "    X = Flatten()(X)\n",
    "    X = Dense(units=256, activation='relu')(X)\n",
    "    X = Dense(units=4, activation='linear')(X)\n",
    "    \n",
    "    model = Model(inputs=inp, outputs=X) \n",
    "    \n",
    "    return model"
   ]
  },
  {
   "cell_type": "markdown",
   "metadata": {},
   "source": [
    "# CrevasseCrosser gym environment"
   ]
  },
  {
   "cell_type": "markdown",
   "metadata": {},
   "source": [
    "## Implement our own CrevasseCrosser class based on OpenAI FrozenLake gym\n",
    "\n",
    "Borrows some elements from https://github.com/openai/gym/blob/master/gym/envs/toy_text/frozen_lake.py\n",
    "\n",
    "**Note**: There are a lot of Python classes wrapping functions to implement this CrevasseCrosserEnv (read: can be hard to follow if you're not familiar with the OpenAI gym). If you are looking for the previous pure numpy implementation that more clearly illustrates the mechanics, you can check out an older version at this [git commit](https://github.com/weiji14/nz_space_challenge/blob/11c293a1c30029b4717c0e40111c56f047dea3c0/route_finder.ipynb)."
   ]
  },
  {
   "cell_type": "markdown",
   "metadata": {},
   "source": [
    "### Design map grid environment"
   ]
  },
  {
   "cell_type": "code",
   "execution_count": 4,
   "metadata": {},
   "outputs": [],
   "source": [
    "MAPS = { \"8x8custom\":\n",
    "           np.array([[.01, .01, .01, .01, .01, .01, .01, .01],\n",
    "                     [.01, .01, .01, .01, .01, .01, .01, .01],\n",
    "                     [.01, .01, .01, 5.0, .01, .01, .01, .01],\n",
    "                     [.01, .01, .01, .01, .01, 5.0, .01, .01],\n",
    "                     [.01, .01, .01, 5.0, .01, .01, .01, .01],\n",
    "                     [.01, 5.0, 5.0, .01, .01, .01, 5.0, .01],\n",
    "                     [.01, 5.0, .01, .01, 5.0, .01, 5.0, .01],\n",
    "                     [.01, .01, .01, 5.0, .01, .01, .01, -5.]], dtype=np.float)\n",
    "        }"
   ]
  },
  {
   "cell_type": "markdown",
   "metadata": {},
   "source": [
    "### Helper function to convert integer to a 2D grid location"
   ]
  },
  {
   "cell_type": "code",
   "execution_count": 5,
   "metadata": {},
   "outputs": [],
   "source": [
    "def int_to_grid(integer:int, grid_shape=(4,4)):\n",
    "    \"\"\"\n",
    "    Function to map an integer to it's 2D grid location\n",
    "    \n",
    "    E.g. to place the integer 5 in a 4x4 (height*width) grid\n",
    "    \n",
    "            0000\n",
    "    5   ->  0100\n",
    "            0000\n",
    "            0000\n",
    "            \n",
    "    Steps:\n",
    "    1) np.prod(grid_shape) i.e. 4*4=16\n",
    "    2) np.identity(16)[integer:integer+1] i.e. output something like [0,0,0,0,0,1,0,0,0,0,0,0,0,0,0,0,0]\n",
    "    3) np.reshape(grid_shape) i.e. output the grid form of the above\n",
    "    \"\"\"\n",
    "    assert(len(grid_shape) == 2)  #numpy array shape must be (height, width) i.e. 2 dimensional\n",
    "    return np.identity(np.prod(grid_shape))[integer:integer+1].reshape(grid_shape)"
   ]
  },
  {
   "cell_type": "markdown",
   "metadata": {},
   "source": [
    "### **CrevasseCrosser** custom OpenAI gym environment class!"
   ]
  },
  {
   "cell_type": "code",
   "execution_count": 6,
   "metadata": {},
   "outputs": [],
   "source": [
    "#https://stackoverflow.com/questions/45068568/is-it-possible-to-create-a-new-gym-environment-in-openai/47132897#47132897\n",
    "from gym.envs import toy_text\n",
    "from gym.utils import seeding\n",
    "\n",
    "class CrevasseCrosserEnv(toy_text.discrete.DiscreteEnv):\n",
    "    \"\"\"\n",
    "    A duplicate of the OpenAI gym FrozenLake, designed with a custom map in mind!\n",
    "    \n",
    "    The map should be a 2D numpy array, with values on each xy position indicating the\n",
    "    penalty for stepping on to that position.\n",
    "    \n",
    "    E.g. if values range from -5 to +5\n",
    "    +5 would indicate a hole or 'H' in the FrozenLake env\n",
    "    -5 would indicate the goal or 'G' in the FrozenLake env\n",
    "    +0.1 would be the free spot or 'F' in the FrozenLake env, note that we penalize steps    \n",
    "    The starting point 'S' on the top left would also have a value of +0.1\n",
    "    \n",
    "    \"\"\"\n",
    "    \n",
    "    def __init__(self, desc=None, map_name=\"8x8custom\"):\n",
    "        if desc is None and map_name is None:\n",
    "            raise ValueError('Must provide either desc or map_name')\n",
    "        elif desc is None:\n",
    "            desc = MAPS[map_name]\n",
    "        try:\n",
    "            assert(isinstance(desc, np.ndarray))\n",
    "            self.desc = desc\n",
    "        except AssertionError:\n",
    "            self.desc = desc = np.asarray(desc,dtype='c')\n",
    "        \n",
    "        self.nrow, self.ncol = nrow, ncol = desc.shape\n",
    "        self.reward_range = (np.min(desc), np.max(desc))  #(0, 1) in FrozenLake, (-5, 5) in '8x8custom' environment\n",
    "        self.reward_extremes = list(self.reward_range)    #[-5, 5], alias for reward_range\n",
    "        \n",
    "        ## number of Actions (discrete)\n",
    "        ## Define what our agent can do, i.e. move left, down, right, up\n",
    "        nA = 4            #self.action_space = gym.spaces.Discrete(nA)\n",
    "        \n",
    "        ## number of States (discrete)\n",
    "        ## Define the shape of our map grid, i.e. number of rows times columns\n",
    "        nS = nrow * ncol  #self.observation_space = gym.spaces.Discrete(self.nS)\n",
    "        \n",
    "        ## initial state distribution (list or array of length nS)\n",
    "        ## Basicaly the initial position of our player as a flattened numpy array\n",
    "        isd = np.identity(np.prod(nrow*ncol))[0:0+1]  #assign initial position as top left\n",
    "        \n",
    "        #safe_points = list(np.argsort(a=self.desc.flatten())[1:21])       #get 20 minimum (safe) points excluding goal\n",
    "        #random_safe_point = random.sample(population=safe_points, k=1)[0]  #randomly choose one safe point\n",
    "        #isd = np.identity(np.prod(nrow*ncol))[random_safe_point:random_safe_point+1]  #assign safe point as initial position\n",
    "        \n",
    "        ## transitions (dictionary dict of dicts of lists, where\n",
    "        ## P[s][a] == [(probability, nextstate, reward, done), ...])\n",
    "        P = {s : {a : [] for a in range(nA)} for s in range(nS)}\n",
    "        \n",
    "        def to_s(row, col):\n",
    "            \"\"\"\n",
    "            Function to return index position of flattened map grid\n",
    "            E.g. (row, col) = (1,1) for a 4x4 grid returns 5\n",
    "            \"\"\"\n",
    "            assert(row <= nrow)\n",
    "            assert(col <= ncol)\n",
    "            return row*ncol + col\n",
    "        \n",
    "        def inc(row, col, a):\n",
    "            \"\"\"\n",
    "            Function to help us take a step somewhere!\n",
    "            \"\"\"\n",
    "            if a==0: # left\n",
    "                col = max(col-1,0)\n",
    "            elif a==1: # down\n",
    "                row = min(row+1,nrow-1)\n",
    "            elif a==2: # right\n",
    "                col = min(col+1,ncol-1)\n",
    "            elif a==3: # up\n",
    "                row = max(row-1,0)\n",
    "            return (row, col)\n",
    "        \n",
    "        for row in range(nrow):\n",
    "            for col in range(ncol):\n",
    "                s = to_s(row, col)    #return index number position given row, col\n",
    "                for a in range(nA):   #for actions in the range of possible actions\n",
    "                    li = P[s][a]      #P[s][a] == [(probability, nextstate, reward, done), ...])\n",
    "                    #letter = desc[row, col]\n",
    "                    gridvalue = desc[row, col]  #the gridvalue corresponding to the penalty value at a position on the map\n",
    "                    probability = 1.0\n",
    "                    #if letter in b'GH':\n",
    "                    if gridvalue in self.reward_extremes:  #if we are already at the goal or the hole\n",
    "                        nextstate = s  #remain in the same position\n",
    "                        reward = 0     #no reward since we are at the end\n",
    "                        done = True\n",
    "                    else:\n",
    "                        newrow, newcol = inc(row, col, a)    #make a move based on our action\n",
    "                        nextstate = to_s(newrow, newcol)     #new index position\n",
    "                        newgridvalue = desc[newrow, newcol]  #new position on the grid\n",
    "                        reward = -newgridvalue               #reward is negative of grid value\n",
    "                        done = True if gridvalue in self.reward_extremes else False\n",
    "                    li.append((probability, nextstate, reward, done))\n",
    "        \n",
    "        super().__init__(nS, nA, P, isd)\n",
    "    \n",
    "    def render(self, mode='human'):\n",
    "        \"\"\"\n",
    "        Matplotlib function to plot the player position on the left\n",
    "        and the map_grid position on the right\n",
    "        \"\"\"\n",
    "        player_position = int_to_grid(self.s, grid_shape=(self.ncol, self.nrow))\n",
    "        map_grid = self.desc  #copy the map environment\n",
    "        \n",
    "        assert(player_position.shape == map_grid.shape)\n",
    "        \n",
    "        fig, axarr = plt.subplots(nrows=1, ncols=2, squeeze=False, figsize=(5,5))\n",
    "        axarr[0, 0].imshow(X=player_position, cmap='winter')\n",
    "        axarr[0, 1].imshow(X=-map_grid, cmap='BrBG')\n",
    "        \n",
    "        if self.lastaction is not None:\n",
    "            print(\"  ({})\".format([\"Left\",\"Down\",\"Right\",\"Up\"][self.lastaction]))\n",
    "        else:\n",
    "            print(\"\")\n",
    "        return plt.show()\n",
    "    \n",
    "    def seed(self, seed=None):\n",
    "        self.np_random, seed = gym.utils.seeding.np_random(seed=seed)\n",
    "        return [seed]"
   ]
  },
  {
   "cell_type": "markdown",
   "metadata": {},
   "source": [
    "### Crevasse Environment Processor"
   ]
  },
  {
   "cell_type": "code",
   "execution_count": 7,
   "metadata": {},
   "outputs": [],
   "source": [
    "# Refer to https://github.com/keras-rl/keras-rl/blob/master/examples/dqn_atari.py\n",
    "from rl.core import Processor\n",
    "\n",
    "class CrevasseEnvProcessor(Processor):\n",
    "    \"\"\"\n",
    "    This processor takes the env observation (index position of the player)\n",
    "    and returns a stacked 2 channel 2D array of shape (?, height, width, 2)\n",
    "    containing the player position (channel 1) and the map grid (channel 2)\n",
    "    \"\"\"    \n",
    "    def process_observation(self, observation):\n",
    "        #print(observation.__class__)\n",
    "        #assert(np.issubdtype(observation, np.int))\n",
    "        #assert(isinstance(observation, int))\n",
    "        map_grid = MAPS['8x8custom']\n",
    "        player_position = int_to_grid(observation, grid_shape=map_grid.shape)\n",
    "        processed_observation = np.stack([np.stack([player_position, map_grid], axis=-1)])  #stack the player_position array and map_grid array channel/depth-wise\n",
    "        return processed_observation\n",
    "        \n",
    "    def process_state_batch(self, batch):\n",
    "        #print(batch.shape)\n",
    "        processed_batch = np.concatenate(np.concatenate(batch, axis=0), axis=0)\n",
    "        assert(processed_batch.ndim == 4)\n",
    "        #assert(processed_batch.shape == (1,8,8,2))\n",
    "        return processed_batch"
   ]
  },
  {
   "cell_type": "markdown",
   "metadata": {},
   "source": [
    "# Setup the training environment"
   ]
  },
  {
   "cell_type": "code",
   "execution_count": 8,
   "metadata": {},
   "outputs": [
    {
     "data": {
      "text/plain": [
       "[42]"
      ]
     },
     "execution_count": 8,
     "metadata": {},
     "output_type": "execute_result"
    }
   ],
   "source": [
    "env = CrevasseCrosserEnv()\n",
    "env.seed(seed=seed)"
   ]
  },
  {
   "cell_type": "code",
   "execution_count": 9,
   "metadata": {},
   "outputs": [
    {
     "name": "stdout",
     "output_type": "stream",
     "text": [
      "  (Left)\n"
     ]
    },
    {
     "data": {
      "image/png": "[encoded data removed]",
      "text/plain": [
       "<Figure size 360x360 with 2 Axes>"
      ]
     },
     "metadata": {},
     "output_type": "display_data"
    },
    {
     "name": "stdout",
     "output_type": "stream",
     "text": [
      "0 -0.01 False {'prob': 1.0}\n"
     ]
    }
   ],
   "source": [
    "env.reset()\n",
    "observation, reward, done, info = env.step(env.action_space.sample())\n",
    "env.render()\n",
    "print(observation, reward, done, info)"
   ]
  },
  {
   "cell_type": "markdown",
   "metadata": {},
   "source": [
    "### Build and compile the Deep Q-Network(DQN) model\n",
    "\n",
    "Referred to implementation at https://github.com/keras-rl/keras-rl/blob/master/examples/dqn_atari.py"
   ]
  },
  {
   "cell_type": "code",
   "execution_count": 10,
   "metadata": {},
   "outputs": [],
   "source": [
    "# Arguments to pass into dqn_model.fit\n",
    "episodes = 1200               #rough number of episodes we want to train the model on\n",
    "nb_max_episode_steps = 100    #maximum number of steps per episode before stopping the player\n",
    "\n",
    "# Assuming an episode finishes in a quarter of the max_episode_steps\n",
    "nb_steps= episodes * (nb_max_episode_steps/4)   #number of steps corresponding to roughly 1200 episodes\n",
    "log_interval = 200 * (nb_max_episode_steps/4)   #print log data for roughly every +/-200 episodes"
   ]
  },
  {
   "cell_type": "code",
   "execution_count": 11,
   "metadata": {
    "scrolled": false
   },
   "outputs": [
    {
     "name": "stdout",
     "output_type": "stream",
     "text": [
      "_________________________________________________________________\n",
      "Layer (type)                 Output Shape              Param #   \n",
      "=================================================================\n",
      "input_1 (InputLayer)         (None, 8, 8, 2)           0         \n",
      "_________________________________________________________________\n",
      "conv2d_1 (Conv2D)            (None, 2, 2, 16)          2064      \n",
      "_________________________________________________________________\n",
      "conv2d_2 (Conv2D)            (None, 1, 1, 32)          8224      \n",
      "_________________________________________________________________\n",
      "flatten_1 (Flatten)          (None, 32)                0         \n",
      "_________________________________________________________________\n",
      "dense_1 (Dense)              (None, 256)               8448      \n",
      "_________________________________________________________________\n",
      "dense_3 (Dense)              (None, 5)                 1285      \n",
      "_________________________________________________________________\n",
      "lambda_1 (Lambda)            (None, 4)                 0         \n",
      "=================================================================\n",
      "Total params: 20,021\n",
      "Trainable params: 20,021\n",
      "Non-trainable params: 0\n",
      "_________________________________________________________________\n"
     ]
    }
   ],
   "source": [
    "## Keras Model parameters\n",
    "optimizer = keras.optimizers.Adam(lr=0.001)\n",
    "model = keras_convnet(input_shape=(MAPS['8x8custom'].shape+(2,)))\n",
    "\n",
    "## Deep Q-Network parameters\n",
    "policy = LinearAnnealedPolicy(EpsGreedyQPolicy(), attr='eps', value_max=1.0, value_min=0.1, value_test=0.05, nb_steps=nb_steps)\n",
    "processor = CrevasseEnvProcessor()\n",
    "nb_actions = env.action_space.n\n",
    "memory = SequentialMemory(limit=1000, window_length=1)\n",
    "\n",
    "## Compile the DQN Agent\n",
    "dqn_model = DQNAgent(model=model, policy=policy,\n",
    "                     memory=memory, processor=processor,\n",
    "                     nb_actions=nb_actions, nb_steps_warmup=50,\n",
    "                     batch_size=32, target_model_update=100,\n",
    "                     enable_double_dqn=True, enable_dueling_network=True)\n",
    "dqn_model.compile(optimizer=optimizer)\n",
    "dqn_model.model.summary()"
   ]
  },
  {
   "cell_type": "markdown",
   "metadata": {},
   "source": [
    "### **Train the Deep Q-Network iteratively here**"
   ]
  },
  {
   "cell_type": "code",
   "execution_count": 12,
   "metadata": {},
   "outputs": [
    {
     "name": "stdout",
     "output_type": "stream",
     "text": [
      "Training for ~1200 episodes with max 100 steps, logging every 5000.0 steps\n",
      "Training for 30000.0 steps ...\n",
      "Interval 1.0 (0 steps performed)\n",
      "5000/5000 [==============================] - 75s 15ms/step - reward: -0.1584\n",
      "152 episodes - episode_reward: -5.207 [-5.970, -1.000] - loss: 0.075 - mean_q: 0.761 - mean_eps: 0.924 - prob: 1.000\n",
      "\n",
      "Interval 2.0 (5000 steps performed)\n",
      "5000/5000 [==============================] - 72s 14ms/step - reward: -0.1634\n",
      "159 episodes - episode_reward: -5.140 [-5.980, -1.000] - loss: 0.025 - mean_q: 2.692 - mean_eps: 0.775 - prob: 1.000\n",
      "\n",
      "Interval 3.0 (10000 steps performed)\n",
      "5000/5000 [==============================] - 72s 14ms/step - reward: -0.1425\n",
      "139 episodes - episode_reward: -5.125 [-5.900, -1.000] - loss: 0.023 - mean_q: 3.568 - mean_eps: 0.625 - prob: 1.000\n",
      "\n",
      "Interval 4.0 (15000 steps performed)\n",
      "5000/5000 [==============================] - 71s 14ms/step - reward: -0.0967\n",
      "102 episodes - episode_reward: -4.737 [-5.990, -1.000] - loss: 0.035 - mean_q: 3.426 - mean_eps: 0.475 - prob: 1.000\n",
      "\n",
      "Interval 5.0 (20000 steps performed)\n",
      "5000/5000 [==============================] - 70s 14ms/step - reward: -0.1016\n",
      "108 episodes - episode_reward: -4.705 [-5.970, 4.600] - loss: 0.019 - mean_q: 2.322 - mean_eps: 0.325 - prob: 1.000\n",
      "\n",
      "Interval 6.0 (25000 steps performed)\n",
      "5000/5000 [==============================] - 76s 15ms/step - reward: -0.0224\n",
      "done, took 437.041 seconds\n"
     ]
    },
    {
     "data": {
      "text/plain": [
       "<keras.callbacks.History at 0x7f0db01e7be0>"
      ]
     },
     "execution_count": 12,
     "metadata": {},
     "output_type": "execute_result"
    }
   ],
   "source": [
    "print(f\"Training for ~{episodes} episodes with max {nb_max_episode_steps} steps, logging every {log_interval} steps\")\n",
    "dqn_model.fit(env=env, nb_steps=nb_steps, log_interval=log_interval, nb_max_episode_steps=nb_max_episode_steps)"
   ]
  },
  {
   "cell_type": "markdown",
   "metadata": {},
   "source": [
    "TODO: Make an Asynchronous Advantage Actor-Critic A3C implementation in Keras!\n",
    "\n",
    "References:\n",
    "\n",
    "- [Reinforcement Learning w/ Keras + OpenAI: Actor-Critic Models](https://towardsdatascience.com/reinforcement-learning-w-keras-openai-actor-critic-models-f084612cfd69)\n",
    "- [Let’s make an A3C: Implementation](https://jaromiru.com/2017/03/26/lets-make-an-a3c-implementation/)\n",
    "- [Deep Reinforcement Learning Flappy Bird](https://shalabhsingh.github.io/Deep-RL-Flappy-Bird/)\n",
    "- [Asynchronous Advantage Actor-Critic (A3C) (Tensorflow)](https://morvanzhou.github.io/tutorials/machine-learning/reinforcement-learning/6-3-A3C/)"
   ]
  },
  {
   "cell_type": "markdown",
   "metadata": {},
   "source": [
    "### Save the DQN model!"
   ]
  },
  {
   "cell_type": "code",
   "execution_count": 13,
   "metadata": {},
   "outputs": [],
   "source": [
    "dqn_model.save_weights(filepath='model/weights/dqn-model-weights.hdf5', overwrite=True)"
   ]
  },
  {
   "cell_type": "markdown",
   "metadata": {},
   "source": [
    "### See how our player does"
   ]
  },
  {
   "cell_type": "code",
   "execution_count": 14,
   "metadata": {},
   "outputs": [],
   "source": [
    "dqn_model.load_weights(filepath='model/weights/dqn-model-weights.hdf5')  #reload the saved dqn model weights"
   ]
  },
  {
   "cell_type": "code",
   "execution_count": 15,
   "metadata": {
    "scrolled": false
   },
   "outputs": [
    {
     "name": "stdout",
     "output_type": "stream",
     "text": [
      "Testing for 1 episodes ...\n",
      "  (Right)\n"
     ]
    },
    {
     "data": {
      "image/png": "[encoded data removed]",
      "text/plain": [
       "<Figure size 360x360 with 2 Axes>"
      ]
     },
     "metadata": {},
     "output_type": "display_data"
    },
    {
     "name": "stdout",
     "output_type": "stream",
     "text": [
      "  (Up)\n"
     ]
    },
    {
     "data": {
      "image/png": "[encoded data removed]",
      "text/plain": [
       "<Figure size 360x360 with 2 Axes>"
      ]
     },
     "metadata": {},
     "output_type": "display_data"
    },
    {
     "name": "stdout",
     "output_type": "stream",
     "text": [
      "  (Up)\n"
     ]
    },
    {
     "data": {
      "image/png": "[encoded data removed]",
      "text/plain": [
       "<Figure size 360x360 with 2 Axes>"
      ]
     },
     "metadata": {},
     "output_type": "display_data"
    },
    {
     "name": "stdout",
     "output_type": "stream",
     "text": [
      "  (Up)\n"
     ]
    },
    {
     "data": {
      "image/png": "[encoded data removed]",
      "text/plain": [
       "<Figure size 360x360 with 2 Axes>"
      ]
     },
     "metadata": {},
     "output_type": "display_data"
    },
    {
     "name": "stdout",
     "output_type": "stream",
     "text": [
      "  (Up)\n"
     ]
    },
    {
     "data": {
      "image/png": "[encoded data removed]",
      "text/plain": [
       "<Figure size 360x360 with 2 Axes>"
      ]
     },
     "metadata": {},
     "output_type": "display_data"
    },
    {
     "name": "stdout",
     "output_type": "stream",
     "text": [
      "  (Up)\n"
     ]
    },
    {
     "data": {
      "image/png": "[encoded data removed]",
      "text/plain": [
       "<Figure size 360x360 with 2 Axes>"
      ]
     },
     "metadata": {},
     "output_type": "display_data"
    },
    {
     "name": "stdout",
     "output_type": "stream",
     "text": [
      "  (Up)\n"
     ]
    },
    {
     "data": {
      "image/png": "[encoded data removed]",
      "text/plain": [
       "<Figure size 360x360 with 2 Axes>"
      ]
     },
     "metadata": {},
     "output_type": "display_data"
    },
    {
     "name": "stdout",
     "output_type": "stream",
     "text": [
      "  (Up)\n"
     ]
    },
    {
     "data": {
      "image/png": "[encoded data removed]",
      "text/plain": [
       "<Figure size 360x360 with 2 Axes>"
      ]
     },
     "metadata": {},
     "output_type": "display_data"
    },
    {
     "name": "stdout",
     "output_type": "stream",
     "text": [
      "  (Up)\n"
     ]
    },
    {
     "data": {
      "image/png": "[encoded data removed]",
      "text/plain": [
       "<Figure size 360x360 with 2 Axes>"
      ]
     },
     "metadata": {},
     "output_type": "display_data"
    },
    {
     "name": "stdout",
     "output_type": "stream",
     "text": [
      "  (Up)\n"
     ]
    },
    {
     "data": {
      "image/png": "[encoded data removed]",
      "text/plain": [
       "<Figure size 360x360 with 2 Axes>"
      ]
     },
     "metadata": {},
     "output_type": "display_data"
    },
    {
     "name": "stdout",
     "output_type": "stream",
     "text": [
      "  (Up)\n"
     ]
    },
    {
     "data": {
      "image/png": "[encoded data removed]",
      "text/plain": [
       "<Figure size 360x360 with 2 Axes>"
      ]
     },
     "metadata": {},
     "output_type": "display_data"
    },
    {
     "name": "stdout",
     "output_type": "stream",
     "text": [
      "  (Up)\n"
     ]
    },
    {
     "data": {
      "image/png": "[encoded data removed]",
      "text/plain": [
       "<Figure size 360x360 with 2 Axes>"
      ]
     },
     "metadata": {},
     "output_type": "display_data"
    },
    {
     "name": "stdout",
     "output_type": "stream",
     "text": [
      "  (Up)\n"
     ]
    },
    {
     "data": {
      "image/png": "[encoded data removed]",
      "text/plain": [
       "<Figure size 360x360 with 2 Axes>"
      ]
     },
     "metadata": {},
     "output_type": "display_data"
    },
    {
     "name": "stdout",
     "output_type": "stream",
     "text": [
      "  (Up)\n"
     ]
    },
    {
     "data": {
      "image/png": "[encoded data removed]",
      "text/plain": [
       "<Figure size 360x360 with 2 Axes>"
      ]
     },
     "metadata": {},
     "output_type": "display_data"
    },
    {
     "name": "stdout",
     "output_type": "stream",
     "text": [
      "Episode 1: reward: -0.140, steps: 14\n",
      "-0.13999999999999999\n"
     ]
    }
   ],
   "source": [
    "evaluation_info = dqn_model.test(env=env, nb_episodes=1, nb_max_episode_steps=14)\n",
    "print(np.mean(evaluation_info.history['episode_reward']))"
   ]
  },
  {
   "cell_type": "code",
   "execution_count": null,
   "metadata": {},
   "outputs": [],
   "source": []
  }
 ],
 "metadata": {
  "kernelspec": {
   "display_name": "nz_space_challenge",
   "language": "python",
   "name": "nz_space_challenge"
  },
  "language_info": {
   "codemirror_mode": {
    "name": "ipython",
    "version": 3
   },
   "file_extension": ".py",
   "mimetype": "text/x-python",
   "name": "python",
   "nbconvert_exporter": "python",
   "pygments_lexer": "ipython3",
   "version": "3.6.5"
  }
 },
 "nbformat": 4,
 "nbformat_minor": 2
}
